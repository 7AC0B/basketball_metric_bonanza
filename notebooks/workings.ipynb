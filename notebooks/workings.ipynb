{
 "cells": [
  {
   "cell_type": "code",
   "execution_count": 46,
   "id": "efd690b6",
   "metadata": {},
   "outputs": [],
   "source": [
    "import pandas as pd\n",
    "import requests\n",
    "from bs4 import BeautifulSoup\n",
    "import time\n",
    "from urllib.parse import urljoin"
   ]
  },
  {
   "cell_type": "code",
   "execution_count": 47,
   "id": "b139ae3f",
   "metadata": {},
   "outputs": [
    {
     "data": {
      "text/plain": [
       "['https://www.basketball-reference.com/players/a/',\n",
       " 'https://www.basketball-reference.com/players/b/']"
      ]
     },
     "execution_count": 47,
     "metadata": {},
     "output_type": "execute_result"
    }
   ],
   "source": [
    "# Get URLs to scrape.\n",
    "# Basketball-reference lists all links to players in alphabetical order, where each letter has its own URL.\n",
    "# Derive these URLs:\n",
    "base_url = \"https://www.basketball-reference.com/players/\"\n",
    "urls_to_scrape = [f\"{base_url}{letter}/\" for letter in \"abcdefghijklmnopqrstuvwxyz\"]\n",
    "urls_to_scrape[:2]"
   ]
  },
  {
   "cell_type": "code",
   "execution_count": 49,
   "id": "e5bff5c6",
   "metadata": {},
   "outputs": [
    {
     "name": "stdout",
     "output_type": "stream",
     "text": [
      "Getting player links for letter: A\n",
      "<Response [200]>\n",
      "Getting player links for letter: B\n",
      "<Response [200]>\n",
      "Getting player links for letter: C\n",
      "<Response [200]>\n",
      "Getting player links for letter: D\n",
      "<Response [200]>\n",
      "Getting player links for letter: E\n",
      "<Response [200]>\n",
      "Getting player links for letter: F\n",
      "<Response [200]>\n",
      "Getting player links for letter: G\n",
      "<Response [200]>\n",
      "Getting player links for letter: H\n",
      "<Response [200]>\n",
      "Getting player links for letter: I\n",
      "<Response [200]>\n",
      "Getting player links for letter: J\n",
      "<Response [200]>\n",
      "Getting player links for letter: K\n",
      "<Response [200]>\n",
      "Getting player links for letter: L\n",
      "<Response [200]>\n",
      "Getting player links for letter: M\n",
      "<Response [200]>\n",
      "Getting player links for letter: N\n",
      "<Response [200]>\n",
      "Getting player links for letter: O\n",
      "<Response [200]>\n",
      "Getting player links for letter: P\n",
      "<Response [200]>\n",
      "Getting player links for letter: Q\n",
      "<Response [200]>\n",
      "Getting player links for letter: R\n",
      "<Response [200]>\n",
      "Getting player links for letter: S\n",
      "<Response [200]>\n",
      "Getting player links for letter: T\n",
      "<Response [200]>\n",
      "Getting player links for letter: U\n",
      "<Response [200]>\n",
      "Getting player links for letter: V\n",
      "<Response [200]>\n",
      "Getting player links for letter: W\n",
      "<Response [200]>\n",
      "Getting player links for letter: X\n",
      "<Response [200]>\n",
      "Getting player links for letter: Y\n",
      "<Response [200]>\n",
      "Getting player links for letter: Z\n",
      "<Response [200]>\n"
     ]
    }
   ],
   "source": [
    "def get_all_urls_in_html(url):\n",
    "\n",
    "    # Fetch and parse page\n",
    "    response = requests.get(url)\n",
    "    print(response)\n",
    "    soup = BeautifulSoup(response.text, 'html.parser')\n",
    "\n",
    "    # Find all URLs\n",
    "    links = soup.find_all('a')\n",
    "    urls = [link.get('href') for link in links if link.get('href')]\n",
    "\n",
    "    # Convert relative URLs to absolute ones\n",
    "    absolute_urls = [urljoin(url, u) for u in urls]\n",
    "\n",
    "    return absolute_urls\n",
    "\n",
    "\n",
    "player_links_found = []\n",
    "\n",
    "for url in urls_to_scrape:\n",
    "\n",
    "    print('Getting player links for letter:', url[-2:-1].upper())\n",
    "\n",
    "    links_found = get_all_urls_in_html(url) # All links\n",
    "\n",
    "    # Extract player links from all links found\n",
    "    player_links = [link for link in links_found if link[:45] == 'https://www.basketball-reference.com/players/a/ackerdo01.html'[:45]]\n",
    "    player_links = [link for link in player_links if link[-5:] == '.html']\n",
    "    player_links = [link for link in player_links if '/data/' not in link]\n",
    "\n",
    "    player_links_found.extend(player_links)\n",
    "\n",
    "    time.sleep(2)"
   ]
  },
  {
   "cell_type": "code",
   "execution_count": null,
   "id": "1804a053",
   "metadata": {},
   "outputs": [],
   "source": [
    "# Save\n",
    "pd.DataFrame(set(player_links_found), columns = ['player_urls']).to_csv('../data/scraped_data/player_urls.csv', index = False)"
   ]
  }
 ],
 "metadata": {
  "kernelspec": {
   "display_name": ".venv",
   "language": "python",
   "name": "python3"
  },
  "language_info": {
   "codemirror_mode": {
    "name": "ipython",
    "version": 3
   },
   "file_extension": ".py",
   "mimetype": "text/x-python",
   "name": "python",
   "nbconvert_exporter": "python",
   "pygments_lexer": "ipython3",
   "version": "3.13.3"
  }
 },
 "nbformat": 4,
 "nbformat_minor": 5
}
